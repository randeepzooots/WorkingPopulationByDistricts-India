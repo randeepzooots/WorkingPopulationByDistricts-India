{
 "cells": [
  {
   "cell_type": "markdown",
   "id": "e6ca468e-50cb-468a-8cfa-4fc26a586795",
   "metadata": {},
   "source": [
    "# Extracting the total working population by districts in India\n",
    "\n",
    "The Census 2011 India consists of detailed data on the working population in India.\n",
    "Following data processing is done to get the desired data:\n",
    "\n",
    "1. Ingest one by one all the raw consisting the raw data\n",
    "2. Process each file to get the desired data\n",
    "3. Write the desired data for each state and one consolidated file for the whole country into CSV files."
   ]
  },
  {
   "cell_type": "code",
   "execution_count": 2,
   "id": "093a9098",
   "metadata": {
    "ExecuteTime": {
     "end_time": "2023-06-13T07:45:11.818716500Z",
     "start_time": "2023-06-13T07:45:11.805285700Z"
    }
   },
   "outputs": [],
   "source": [
    "import pandas as pd\n",
    "import os"
   ]
  },
  {
   "cell_type": "markdown",
   "id": "52aeace2-a4fa-4429-a815-be194ffbd8b6",
   "metadata": {},
   "source": [
    "The **inFolder** consists of all the raw files and the **outFolder** consists of all the files with desired data."
   ]
  },
  {
   "cell_type": "code",
   "execution_count": 217,
   "id": "17b76202",
   "metadata": {},
   "outputs": [],
   "source": [
    "outFolder = \"~/Working Population/Out/\"\n",
    "inFolder = \"~/In/\""
   ]
  },
  {
   "cell_type": "code",
   "execution_count": 218,
   "id": "5201f34d",
   "metadata": {},
   "outputs": [],
   "source": [
    "files = os.listdir(inFolder)"
   ]
  },
  {
   "cell_type": "markdown",
   "id": "9acb9261-d608-4cd5-b707-f24dc94fe4c2",
   "metadata": {},
   "source": [
    "The below cell:\n",
    "\n",
    "1. loops over each raw file\n",
    "2. processes them to extract the required data\n",
    "3. writes a state CSV file\n",
    "4. consolidates all the state's data\n",
    "5. writes the consolidated data at last"
   ]
  },
  {
   "cell_type": "code",
   "execution_count": 231,
   "id": "e5b84fd0",
   "metadata": {
    "scrolled": true
   },
   "outputs": [],
   "source": [
    "Final_df = pd.DataFrame()\n",
    "for file in files:\n",
    "    df = pd.read_excel(inFolder+file)\n",
    "    df.drop([0,1,2,3,4,6],axis=0,inplace=True)\n",
    "    df.columns = df.iloc[0]\n",
    "    df.drop([5],inplace=True)\n",
    "    State = df[5].iloc[0][8:][:-5]\n",
    "    df = df[[5,6,7,11,14,17,20]]\n",
    "    df[['State','Name']] = df[5].str.split(' - ',expand=True,n=1)\n",
    "    df = df[df.State == 'District']\n",
    "    df = df[df[6] == 'Total']\n",
    "    df = df[df[7] == 'Total']\n",
    "    df['Working Pop'] = df[11]+df[14]+df[17]+df[20]\n",
    "    df['State'] = State\n",
    "    df = df.drop([5,6,7],axis=1)\n",
    "    df.columns = ['Total Main Worker','Total Marginal Workers (<3 months)','Total Marginal Workers (3 - 6 months)','Total Workers Seeking/Available for Work','State','District','Total Working Population']\n",
    "    df.reset_index(inplace=True,drop=True)\n",
    "    df.District = df.District.apply(lambda x: x[:-5])\n",
    "    df = df.reindex(columns=['State','District','Total Main Worker','Total Marginal Workers (<3 months)','Total Marginal Workers (3 - 6 months)','Total Workers Seeking/Available for Work','Total Working Population'])\n",
    "    df.to_csv(outFolder+State+'.csv',index=False)\n",
    "    Final_df = pd.concat([Final_df,df])\n",
    "Final_df.to_excel(outFolder+'Working Population.xlsx',index=False)"
   ]
  }
 ],
 "metadata": {
  "kernelspec": {
   "display_name": "Python 3 (ipykernel)",
   "language": "python",
   "name": "python3"
  },
  "language_info": {
   "codemirror_mode": {
    "name": "ipython",
    "version": 3
   },
   "file_extension": ".py",
   "mimetype": "text/x-python",
   "name": "python",
   "nbconvert_exporter": "python",
   "pygments_lexer": "ipython3",
   "version": "3.10.7"
  }
 },
 "nbformat": 4,
 "nbformat_minor": 5
}
